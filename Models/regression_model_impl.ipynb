{
 "cells": [
  {
   "cell_type": "markdown",
   "metadata": {},
   "source": [
    "# Regression"
   ]
  },
  {
   "cell_type": "markdown",
   "metadata": {},
   "source": [
    "# Import Libraries"
   ]
  },
  {
   "cell_type": "code",
   "execution_count": 1,
   "metadata": {},
   "outputs": [],
   "source": [
    "import pandas as pd\n",
    "import matplotlib.pyplot as plt\n",
    "from sklearn.model_selection import train_test_split\n",
    "from sklearn.preprocessing import LabelEncoder\n",
    "from sklearn.linear_model import LogisticRegression\n",
    "from sklearn.naive_bayes import MultinomialNB\n",
    "from sklearn.metrics import classification_report, confusion_matrix, ConfusionMatrixDisplay"
   ]
  },
  {
   "cell_type": "markdown",
   "metadata": {},
   "source": [
    "# Load Dataset"
   ]
  },
  {
   "cell_type": "code",
   "execution_count": 2,
   "metadata": {},
   "outputs": [
    {
     "data": {
      "text/html": [
       "<div>\n",
       "<style scoped>\n",
       "    .dataframe tbody tr th:only-of-type {\n",
       "        vertical-align: middle;\n",
       "    }\n",
       "\n",
       "    .dataframe tbody tr th {\n",
       "        vertical-align: top;\n",
       "    }\n",
       "\n",
       "    .dataframe thead th {\n",
       "        text-align: right;\n",
       "    }\n",
       "</style>\n",
       "<table border=\"1\" class=\"dataframe\">\n",
       "  <thead>\n",
       "    <tr style=\"text-align: right;\">\n",
       "      <th></th>\n",
       "      <th>user_id</th>\n",
       "      <th>display_name</th>\n",
       "      <th>reputation</th>\n",
       "      <th>profile_image</th>\n",
       "      <th>user_type</th>\n",
       "      <th>link</th>\n",
       "      <th>account_id</th>\n",
       "      <th>is_employee</th>\n",
       "      <th>last_modified_date</th>\n",
       "      <th>last_access_date</th>\n",
       "      <th>...</th>\n",
       "      <th>reputation_change_week</th>\n",
       "      <th>reputation_change_day</th>\n",
       "      <th>creation_date</th>\n",
       "      <th>accept_rate</th>\n",
       "      <th>badge_bronze</th>\n",
       "      <th>badge_silver</th>\n",
       "      <th>badge_gold</th>\n",
       "      <th>account_age_days</th>\n",
       "      <th>account_age_years</th>\n",
       "      <th>age_group</th>\n",
       "    </tr>\n",
       "  </thead>\n",
       "  <tbody>\n",
       "    <tr>\n",
       "      <th>0</th>\n",
       "      <td>109</td>\n",
       "      <td>Kalid</td>\n",
       "      <td>22690</td>\n",
       "      <td>https://www.gravatar.com/avatar/5117b4aacf8b64...</td>\n",
       "      <td>registered</td>\n",
       "      <td>https://stackoverflow.com/users/109/kalid</td>\n",
       "      <td>91</td>\n",
       "      <td>False</td>\n",
       "      <td>2025-01-17 19:05:00</td>\n",
       "      <td>2015-10-10 21:32:52</td>\n",
       "      <td>...</td>\n",
       "      <td>10</td>\n",
       "      <td>0</td>\n",
       "      <td>2008-08-02 00:20:47</td>\n",
       "      <td>88.0</td>\n",
       "      <td>46</td>\n",
       "      <td>45</td>\n",
       "      <td>14</td>\n",
       "      <td>6029</td>\n",
       "      <td>16.5</td>\n",
       "      <td>15-18 Years</td>\n",
       "    </tr>\n",
       "    <tr>\n",
       "      <th>1</th>\n",
       "      <td>347807</td>\n",
       "      <td>CristiC</td>\n",
       "      <td>22688</td>\n",
       "      <td>https://www.gravatar.com/avatar/6023ac67694f90...</td>\n",
       "      <td>registered</td>\n",
       "      <td>https://stackoverflow.com/users/347807/cristic</td>\n",
       "      <td>141059</td>\n",
       "      <td>False</td>\n",
       "      <td>2024-04-09 05:40:03</td>\n",
       "      <td>2025-01-23 03:52:19</td>\n",
       "      <td>...</td>\n",
       "      <td>10</td>\n",
       "      <td>0</td>\n",
       "      <td>2010-05-22 13:10:40</td>\n",
       "      <td>96.0</td>\n",
       "      <td>89</td>\n",
       "      <td>61</td>\n",
       "      <td>13</td>\n",
       "      <td>5370</td>\n",
       "      <td>14.7</td>\n",
       "      <td>12-15 Years</td>\n",
       "    </tr>\n",
       "    <tr>\n",
       "      <th>2</th>\n",
       "      <td>3427777</td>\n",
       "      <td>fantabolous</td>\n",
       "      <td>22686</td>\n",
       "      <td>https://www.gravatar.com/avatar/34dac9c01fc709...</td>\n",
       "      <td>registered</td>\n",
       "      <td>https://stackoverflow.com/users/3427777/fantab...</td>\n",
       "      <td>4096755</td>\n",
       "      <td>False</td>\n",
       "      <td>2024-10-25 20:10:00</td>\n",
       "      <td>2024-12-09 04:11:00</td>\n",
       "      <td>...</td>\n",
       "      <td>0</td>\n",
       "      <td>0</td>\n",
       "      <td>2014-03-17 06:40:33</td>\n",
       "      <td>80.0</td>\n",
       "      <td>52</td>\n",
       "      <td>57</td>\n",
       "      <td>8</td>\n",
       "      <td>3976</td>\n",
       "      <td>10.9</td>\n",
       "      <td>10-12 Years</td>\n",
       "    </tr>\n",
       "    <tr>\n",
       "      <th>3</th>\n",
       "      <td>1858116</td>\n",
       "      <td>Gabriele Santomaggio</td>\n",
       "      <td>22682</td>\n",
       "      <td>https://i.sstatic.net/fQDZf.jpg?s=256</td>\n",
       "      <td>registered</td>\n",
       "      <td>https://stackoverflow.com/users/1858116/gabrie...</td>\n",
       "      <td>2087535</td>\n",
       "      <td>False</td>\n",
       "      <td>2023-12-25 15:00:00</td>\n",
       "      <td>2025-01-27 14:19:21</td>\n",
       "      <td>...</td>\n",
       "      <td>0</td>\n",
       "      <td>0</td>\n",
       "      <td>2012-11-27 23:02:03</td>\n",
       "      <td>78.0</td>\n",
       "      <td>59</td>\n",
       "      <td>58</td>\n",
       "      <td>4</td>\n",
       "      <td>4450</td>\n",
       "      <td>12.2</td>\n",
       "      <td>12-15 Years</td>\n",
       "    </tr>\n",
       "    <tr>\n",
       "      <th>4</th>\n",
       "      <td>13767</td>\n",
       "      <td>Rafał Rawicki</td>\n",
       "      <td>22680</td>\n",
       "      <td>https://www.gravatar.com/avatar/b043ead577679f...</td>\n",
       "      <td>registered</td>\n",
       "      <td>https://stackoverflow.com/users/13767/rafa%c5%...</td>\n",
       "      <td>7838</td>\n",
       "      <td>False</td>\n",
       "      <td>2024-05-08 11:00:00</td>\n",
       "      <td>2023-07-05 09:38:01</td>\n",
       "      <td>...</td>\n",
       "      <td>0</td>\n",
       "      <td>0</td>\n",
       "      <td>2008-09-16 20:48:13</td>\n",
       "      <td>88.0</td>\n",
       "      <td>79</td>\n",
       "      <td>63</td>\n",
       "      <td>5</td>\n",
       "      <td>5983</td>\n",
       "      <td>16.4</td>\n",
       "      <td>15-18 Years</td>\n",
       "    </tr>\n",
       "  </tbody>\n",
       "</table>\n",
       "<p>5 rows × 23 columns</p>\n",
       "</div>"
      ],
      "text/plain": [
       "   user_id          display_name  reputation  \\\n",
       "0      109                 Kalid       22690   \n",
       "1   347807               CristiC       22688   \n",
       "2  3427777           fantabolous       22686   \n",
       "3  1858116  Gabriele Santomaggio       22682   \n",
       "4    13767         Rafał Rawicki       22680   \n",
       "\n",
       "                                       profile_image   user_type  \\\n",
       "0  https://www.gravatar.com/avatar/5117b4aacf8b64...  registered   \n",
       "1  https://www.gravatar.com/avatar/6023ac67694f90...  registered   \n",
       "2  https://www.gravatar.com/avatar/34dac9c01fc709...  registered   \n",
       "3              https://i.sstatic.net/fQDZf.jpg?s=256  registered   \n",
       "4  https://www.gravatar.com/avatar/b043ead577679f...  registered   \n",
       "\n",
       "                                                link  account_id  is_employee  \\\n",
       "0          https://stackoverflow.com/users/109/kalid          91        False   \n",
       "1     https://stackoverflow.com/users/347807/cristic      141059        False   \n",
       "2  https://stackoverflow.com/users/3427777/fantab...     4096755        False   \n",
       "3  https://stackoverflow.com/users/1858116/gabrie...     2087535        False   \n",
       "4  https://stackoverflow.com/users/13767/rafa%c5%...        7838        False   \n",
       "\n",
       "    last_modified_date     last_access_date  ...  reputation_change_week  \\\n",
       "0  2025-01-17 19:05:00  2015-10-10 21:32:52  ...                      10   \n",
       "1  2024-04-09 05:40:03  2025-01-23 03:52:19  ...                      10   \n",
       "2  2024-10-25 20:10:00  2024-12-09 04:11:00  ...                       0   \n",
       "3  2023-12-25 15:00:00  2025-01-27 14:19:21  ...                       0   \n",
       "4  2024-05-08 11:00:00  2023-07-05 09:38:01  ...                       0   \n",
       "\n",
       "   reputation_change_day        creation_date  accept_rate  badge_bronze  \\\n",
       "0                      0  2008-08-02 00:20:47         88.0            46   \n",
       "1                      0  2010-05-22 13:10:40         96.0            89   \n",
       "2                      0  2014-03-17 06:40:33         80.0            52   \n",
       "3                      0  2012-11-27 23:02:03         78.0            59   \n",
       "4                      0  2008-09-16 20:48:13         88.0            79   \n",
       "\n",
       "  badge_silver  badge_gold  account_age_days  account_age_years    age_group  \n",
       "0           45          14              6029               16.5  15-18 Years  \n",
       "1           61          13              5370               14.7  12-15 Years  \n",
       "2           57           8              3976               10.9  10-12 Years  \n",
       "3           58           4              4450               12.2  12-15 Years  \n",
       "4           63           5              5983               16.4  15-18 Years  \n",
       "\n",
       "[5 rows x 23 columns]"
      ]
     },
     "execution_count": 2,
     "metadata": {},
     "output_type": "execute_result"
    }
   ],
   "source": [
    "# Load dataset\n",
    "user_details_data = pd.read_csv(\"/Users/akhilaannireddy/Projects/Machine_learning_project/Dataset/cleaned_user_data.csv\")\n",
    "user_details_data.head()"
   ]
  },
  {
   "cell_type": "markdown",
   "metadata": {},
   "source": [
    "# Create Binary Expertise Column"
   ]
  },
  {
   "cell_type": "code",
   "execution_count": 3,
   "metadata": {},
   "outputs": [],
   "source": [
    "# Categorize into 4 expertise levels\n",
    "expertise_labels = ['Beginner', 'Intermediate', 'Advanced', 'Expert']\n",
    "user_details_data['expertise_level'] = pd.qcut(user_details_data['reputation'], q=4, labels=expertise_labels)\n",
    "\n",
    "# Convert to binary: Beginner + Intermediate => Low, Advanced + Expert => High\n",
    "user_details_data['expertise_binary'] = user_details_data['expertise_level'].apply(\n",
    "    lambda x: 'Low' if x in ['Beginner', 'Intermediate'] else 'High'\n",
    ")\n",
    "\n",
    "# Drop original columns not needed\n",
    "user_details_data.drop(columns=['expertise_level', 'reputation'], inplace=True)"
   ]
  },
  {
   "cell_type": "markdown",
   "metadata": {},
   "source": [
    "# Drop Unnecessary Columns"
   ]
  },
  {
   "cell_type": "code",
   "execution_count": 4,
   "metadata": {},
   "outputs": [],
   "source": [
    "cols_to_drop = [\n",
    "    'user_id', 'display_name', 'profile_image', 'link', 'account_id',\n",
    "    'last_modified_date', 'last_access_date', 'creation_date', 'is_employee', 'account_age_years'\n",
    "]\n",
    "user_details_data.drop(columns=cols_to_drop, inplace=True)"
   ]
  },
  {
   "cell_type": "markdown",
   "metadata": {},
   "source": [
    "# Encode Categorical Features"
   ]
  },
  {
   "cell_type": "code",
   "execution_count": 5,
   "metadata": {},
   "outputs": [],
   "source": [
    "# Fill missing values\n",
    "user_details_data = user_details_data.fillna(0)\n",
    "\n",
    "# Label encode categorical columns\n",
    "for col in user_details_data.select_dtypes(include='object').columns:\n",
    "    user_details_data[col] = LabelEncoder().fit_transform(user_details_data[col].astype(str))\n",
    "\n",
    "# Encode target\n",
    "label_encoder = LabelEncoder()\n",
    "user_details_data['expertise_binary_encoded'] = label_encoder.fit_transform(user_details_data['expertise_binary'])\n",
    "\n",
    "user_details_data.to_csv(\"cleaned_data_for_regression.csv\")"
   ]
  },
  {
   "cell_type": "markdown",
   "metadata": {},
   "source": [
    "# Prepare Train/Test Split"
   ]
  },
  {
   "cell_type": "code",
   "execution_count": 6,
   "metadata": {},
   "outputs": [],
   "source": [
    "X = user_details_data.drop(columns=['expertise_binary', 'expertise_binary_encoded'])\n",
    "y = user_details_data['expertise_binary_encoded']\n",
    "\n",
    "X_train, X_test, y_train, y_test = train_test_split(X, y, test_size=0.2, stratify=y, random_state=42)"
   ]
  },
  {
   "cell_type": "markdown",
   "metadata": {},
   "source": [
    "# Logistic Regression"
   ]
  },
  {
   "cell_type": "code",
   "execution_count": 7,
   "metadata": {},
   "outputs": [
    {
     "name": "stdout",
     "output_type": "stream",
     "text": [
      "Logistic Regression Accuracy: 0.7364\n",
      "\n",
      "Logistic Regression Classification Report:\n",
      "\n",
      "                precision    recall  f1-score   support\n",
      "\n",
      " Low Expertise       0.77      0.67      0.72     10479\n",
      "High Expertise       0.71      0.81      0.75     10481\n",
      "\n",
      "      accuracy                           0.74     20960\n",
      "     macro avg       0.74      0.74      0.74     20960\n",
      "  weighted avg       0.74      0.74      0.74     20960\n",
      "\n"
     ]
    },
    {
     "name": "stderr",
     "output_type": "stream",
     "text": [
      "/opt/anaconda3/envs/mlpro/lib/python3.9/site-packages/sklearn/linear_model/_logistic.py:465: ConvergenceWarning: lbfgs failed to converge (status=1):\n",
      "STOP: TOTAL NO. of ITERATIONS REACHED LIMIT.\n",
      "\n",
      "Increase the number of iterations (max_iter) or scale the data as shown in:\n",
      "    https://scikit-learn.org/stable/modules/preprocessing.html\n",
      "Please also refer to the documentation for alternative solver options:\n",
      "    https://scikit-learn.org/stable/modules/linear_model.html#logistic-regression\n",
      "  n_iter_i = _check_optimize_result(\n"
     ]
    },
    {
     "data": {
      "image/png": "[encoded data removed]",
      "text/plain": [
       "<Figure size 640x480 with 2 Axes>"
      ]
     },
     "metadata": {},
     "output_type": "display_data"
    }
   ],
   "source": [
    "from sklearn.linear_model import LogisticRegression\n",
    "from sklearn.metrics import accuracy_score, classification_report, ConfusionMatrixDisplay\n",
    "\n",
    "# Train Logistic Regression\n",
    "lr_model = LogisticRegression(max_iter=200, random_state=42)\n",
    "lr_model.fit(X_train, y_train)\n",
    "\n",
    "# Predict\n",
    "y_pred_lr = lr_model.predict(X_test)\n",
    "acc_lr = accuracy_score(y_test, y_pred_lr)\n",
    "print(f\"Logistic Regression Accuracy: {acc_lr:.4f}\\n\")\n",
    "\n",
    "# Classification Report\n",
    "print(\"Logistic Regression Classification Report:\\n\")\n",
    "print(classification_report(y_test, y_pred_lr, target_names=[\"Low Expertise\", \"High Expertise\"]))\n",
    "\n",
    "# Confusion Matrix\n",
    "ConfusionMatrixDisplay.from_predictions(\n",
    "    y_test,\n",
    "    y_pred_lr,\n",
    "    display_labels=[\"Low Expertise\", \"High Expertise\"],\n",
    "    cmap=\"Blues\"\n",
    ")\n",
    "plt.title(\"Confusion Matrix - Logistic Regression\")\n",
    "plt.xticks(rotation=45)\n",
    "plt.tight_layout()\n",
    "plt.show()\n"
   ]
  },
  {
   "cell_type": "markdown",
   "metadata": {},
   "source": [
    "The Logistic Regression model achieved an overall accuracy of 73.64%, which indicates a strong performance in classifying users into \"Low Expertise\" and \"High Expertise\" categories based on the input features. This suggests that the model was able to learn meaningful patterns that differentiate the two expertise levels.\n",
    "\n",
    "For the \"Low Expertise\" class, the model had a precision of 0.77 and a recall of 0.67. This means that 77% of the time when the model predicted \"Low Expertise,\" it was correct, but it only captured 67% of all actual low expertise cases. In contrast, for the \"High Expertise\" class, the precision was 0.71 and the recall was 0.81, showing that the model performed better in retrieving high expertise users.\n",
    "\n",
    "The confusion matrix supports this finding, where 6,990 out of 10,479 actual low expertise users were correctly classified, while 3,489 were misclassified. For the high expertise group, 8,445 out of 10,481 users were correctly identified, and 2,036 were misclassified.\n",
    "\n",
    "The macro and weighted averages for precision, recall, and F1-score were all approximately 0.74, showing balanced performance between the two classes. However, the model did face some challenges in distinguishing low expertise users, which may be addressed through feature engineering or hyperparameter tuning.\n",
    "\n",
    "Overall, the Logistic Regression model performed well in a binary classification setting and provided interpretable insights into user expertise prediction."
   ]
  },
  {
   "cell_type": "markdown",
   "metadata": {},
   "source": [
    "# Multinomial Naive Bayes"
   ]
  },
  {
   "cell_type": "code",
   "execution_count": 8,
   "metadata": {},
   "outputs": [
    {
     "name": "stdout",
     "output_type": "stream",
     "text": [
      "Multinomial Naive Bayes Accuracy: 0.6759\n",
      "\n",
      "Multinomial Naive Bayes Classification Report:\n",
      "\n",
      "                precision    recall  f1-score   support\n",
      "\n",
      " Low Expertise       0.77      0.50      0.61     10479\n",
      "High Expertise       0.63      0.85      0.72     10481\n",
      "\n",
      "      accuracy                           0.68     20960\n",
      "     macro avg       0.70      0.68      0.67     20960\n",
      "  weighted avg       0.70      0.68      0.67     20960\n",
      "\n"
     ]
    },
    {
     "data": {
      "image/png": "[encoded data removed]",
      "text/plain": [
       "<Figure size 640x480 with 2 Axes>"
      ]
     },
     "metadata": {},
     "output_type": "display_data"
    }
   ],
   "source": [
    "from sklearn.naive_bayes import MultinomialNB\n",
    "from sklearn.metrics import accuracy_score, classification_report, ConfusionMatrixDisplay\n",
    "import matplotlib.pyplot as plt\n",
    "\n",
    "# Ensure all features are non-negative (required for MultinomialNB)\n",
    "X_train_nb = X_train.copy()\n",
    "X_test_nb = X_test.copy()\n",
    "\n",
    "X_train_nb[X_train_nb < 0] = 0\n",
    "X_test_nb[X_test_nb < 0] = 0\n",
    "\n",
    "# Train Multinomial Naive Bayes\n",
    "nb_model = MultinomialNB()\n",
    "nb_model.fit(X_train_nb, y_train)\n",
    "\n",
    "# Predict\n",
    "y_pred_nb = nb_model.predict(X_test_nb)\n",
    "acc_nb = accuracy_score(y_test, y_pred_nb)\n",
    "print(f\"Multinomial Naive Bayes Accuracy: {acc_nb:.4f}\\n\")\n",
    "\n",
    "# Classification Report\n",
    "print(\"Multinomial Naive Bayes Classification Report:\\n\")\n",
    "print(classification_report(y_test, y_pred_nb, target_names=[\"Low Expertise\", \"High Expertise\"]))\n",
    "\n",
    "# Confusion Matrix\n",
    "ConfusionMatrixDisplay.from_predictions(\n",
    "    y_test,\n",
    "    y_pred_nb,\n",
    "    display_labels=[\"Low Expertise\", \"High Expertise\"],\n",
    "    cmap=\"Purples\"\n",
    ")\n",
    "plt.title(\"Confusion Matrix - Multinomial Naive Bayes\")\n",
    "plt.xticks(rotation=45)\n",
    "plt.tight_layout()\n",
    "plt.show()\n"
   ]
  },
  {
   "cell_type": "markdown",
   "metadata": {},
   "source": [
    "The Multinomial Naive Bayes model achieved an overall accuracy of 67.59%, which is lower than the logistic regression model, but still indicates a moderate ability to distinguish between \"Low Expertise\" and \"High Expertise\" users.\n",
    "\n",
    "For the Low Expertise class, the model had a precision of 0.77 but a recall of only 0.50, meaning it correctly identified 77% of the predicted low expertise users, but captured only 50% of the actual low expertise cases. This indicates a high false negative rate for this group.\n",
    "\n",
    "In contrast, the High Expertise class performed better, with a precision of 0.63 and a recall of 0.85. This shows the model was more effective at retrieving high expertise users, but less precise—37% of the predicted high expertise cases were actually from the low expertise group.\n",
    "\n",
    "The macro average of precision, recall, and F1-score (all around 0.68–0.70) shows that the performance is imbalanced across the two classes. The model is clearly biased toward identifying high expertise users.\n",
    "\n",
    "In conclusion, while Multinomial Naive Bayes is simple and fast, it was less balanced than logistic regression. It favored the high expertise group and struggled more with correctly identifying low expertise users. This outcome may be improved with additional feature engineering or trying different variants of Naive Bayes."
   ]
  },
  {
   "cell_type": "markdown",
   "metadata": {},
   "source": [
    "# Comparison"
   ]
  },
  {
   "cell_type": "markdown",
   "metadata": {},
   "source": [
    "The comparison between Logistic Regression and Multinomial Naive Bayes reveals that Logistic Regression performs better overall on this binary classification task. With an accuracy of 73.64%, Logistic Regression surpasses the 67.59% accuracy achieved by Naive Bayes, indicating that it is more effective at correctly classifying users based on their expertise levels.\n",
    "\n",
    "Looking more closely at class-wise performance, Logistic Regression demonstrates stronger balance in both precision and recall for the Low and High Expertise categories. For the Low Expertise class, both models have the same precision of 0.77. However, Logistic Regression achieves a much higher recall (0.67) compared to Naive Bayes (0.50), leading to a better F1-score of 0.72 versus 0.61. This suggests that Logistic Regression is more capable of correctly identifying users with lower expertise.\n",
    "\n",
    "For the High Expertise class, Naive Bayes shows a higher recall (0.85), meaning it correctly detects more of the actual high expertise users. However, its precision drops to 0.63, which implies it misclassifies a larger number of low expertise users as high. In contrast, Logistic Regression maintains a more balanced performance with a precision of 0.71 and recall of 0.81, leading to a slightly higher F1-score of 0.75.\n",
    "\n",
    "The macro and weighted averages also favor Logistic Regression, both scoring 0.74 in F1-score, while Naive Bayes lags behind with scores of 0.67. This further supports the conclusion that Logistic Regression offers more consistent and reliable predictions across both classes.\n",
    "\n",
    "In summary, Logistic Regression demonstrates better overall accuracy and class-wise balance compared to Multinomial Naive Bayes. While Naive Bayes is more aggressive in detecting high expertise users, it sacrifices precision and overall balance. For scenarios that require dependable classification across both expertise levels, Logistic Regression stands out as the more suitable model."
   ]
  }
 ],
 "metadata": {
  "kernelspec": {
   "display_name": "mlpro",
   "language": "python",
   "name": "python3"
  },
  "language_info": {
   "codemirror_mode": {
    "name": "ipython",
    "version": 3
   },
   "file_extension": ".py",
   "mimetype": "text/x-python",
   "name": "python",
   "nbconvert_exporter": "python",
   "pygments_lexer": "ipython3",
   "version": "3.9.21"
  }
 },
 "nbformat": 4,
 "nbformat_minor": 2
}
