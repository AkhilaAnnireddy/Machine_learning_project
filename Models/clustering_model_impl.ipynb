{
 "cells": [
  {
   "cell_type": "markdown",
   "metadata": {},
   "source": [
    "# Clustering Tecniques"
   ]
  },
  {
   "cell_type": "markdown",
   "metadata": {},
   "source": [
    "### Import necessary libraries"
   ]
  },
  {
   "cell_type": "code",
   "execution_count": 20,
   "metadata": {},
   "outputs": [],
   "source": [
    "import pandas as pd\n",
    "from sklearn.preprocessing import StandardScaler\n",
    "import numpy as np\n",
    "from sklearn.metrics import silhouette_score\n",
    "import numpy as np\n",
    "import matplotlib.pyplot as plt\n",
    "from sklearn.cluster import KMeans\n",
    "import scipy.cluster.hierarchy as sch\n",
    "from sklearn.cluster import AgglomerativeClustering\n",
    "from sklearn.preprocessing import StandardScaler\n",
    "from sklearn.metrics import confusion_matrix\n",
    "from sklearn.preprocessing import LabelEncoder\n",
    "from sklearn.decomposition import PCA\n",
    "from sklearn.cluster import DBSCAN\n"
   ]
  },
  {
   "cell_type": "markdown",
   "metadata": {},
   "source": [
    "### Load dataset"
   ]
  },
  {
   "cell_type": "code",
   "execution_count": 2,
   "metadata": {},
   "outputs": [
    {
     "data": {
      "text/html": [
       "<div>\n",
       "<style scoped>\n",
       "    .dataframe tbody tr th:only-of-type {\n",
       "        vertical-align: middle;\n",
       "    }\n",
       "\n",
       "    .dataframe tbody tr th {\n",
       "        vertical-align: top;\n",
       "    }\n",
       "\n",
       "    .dataframe thead th {\n",
       "        text-align: right;\n",
       "    }\n",
       "</style>\n",
       "<table border=\"1\" class=\"dataframe\">\n",
       "  <thead>\n",
       "    <tr style=\"text-align: right;\">\n",
       "      <th></th>\n",
       "      <th>user_id</th>\n",
       "      <th>display_name</th>\n",
       "      <th>reputation</th>\n",
       "      <th>profile_image</th>\n",
       "      <th>user_type</th>\n",
       "      <th>link</th>\n",
       "      <th>account_id</th>\n",
       "      <th>is_employee</th>\n",
       "      <th>last_modified_date</th>\n",
       "      <th>last_access_date</th>\n",
       "      <th>...</th>\n",
       "      <th>reputation_change_week</th>\n",
       "      <th>reputation_change_day</th>\n",
       "      <th>creation_date</th>\n",
       "      <th>accept_rate</th>\n",
       "      <th>badge_bronze</th>\n",
       "      <th>badge_silver</th>\n",
       "      <th>badge_gold</th>\n",
       "      <th>account_age_days</th>\n",
       "      <th>account_age_years</th>\n",
       "      <th>age_group</th>\n",
       "    </tr>\n",
       "  </thead>\n",
       "  <tbody>\n",
       "    <tr>\n",
       "      <th>0</th>\n",
       "      <td>109</td>\n",
       "      <td>Kalid</td>\n",
       "      <td>22690</td>\n",
       "      <td>https://www.gravatar.com/avatar/5117b4aacf8b64...</td>\n",
       "      <td>registered</td>\n",
       "      <td>https://stackoverflow.com/users/109/kalid</td>\n",
       "      <td>91</td>\n",
       "      <td>False</td>\n",
       "      <td>2025-01-17 19:05:00</td>\n",
       "      <td>2015-10-10 21:32:52</td>\n",
       "      <td>...</td>\n",
       "      <td>10</td>\n",
       "      <td>0</td>\n",
       "      <td>2008-08-02 00:20:47</td>\n",
       "      <td>88.0</td>\n",
       "      <td>46</td>\n",
       "      <td>45</td>\n",
       "      <td>14</td>\n",
       "      <td>6029</td>\n",
       "      <td>16.5</td>\n",
       "      <td>15-18 Years</td>\n",
       "    </tr>\n",
       "    <tr>\n",
       "      <th>1</th>\n",
       "      <td>347807</td>\n",
       "      <td>CristiC</td>\n",
       "      <td>22688</td>\n",
       "      <td>https://www.gravatar.com/avatar/6023ac67694f90...</td>\n",
       "      <td>registered</td>\n",
       "      <td>https://stackoverflow.com/users/347807/cristic</td>\n",
       "      <td>141059</td>\n",
       "      <td>False</td>\n",
       "      <td>2024-04-09 05:40:03</td>\n",
       "      <td>2025-01-23 03:52:19</td>\n",
       "      <td>...</td>\n",
       "      <td>10</td>\n",
       "      <td>0</td>\n",
       "      <td>2010-05-22 13:10:40</td>\n",
       "      <td>96.0</td>\n",
       "      <td>89</td>\n",
       "      <td>61</td>\n",
       "      <td>13</td>\n",
       "      <td>5370</td>\n",
       "      <td>14.7</td>\n",
       "      <td>12-15 Years</td>\n",
       "    </tr>\n",
       "    <tr>\n",
       "      <th>2</th>\n",
       "      <td>3427777</td>\n",
       "      <td>fantabolous</td>\n",
       "      <td>22686</td>\n",
       "      <td>https://www.gravatar.com/avatar/34dac9c01fc709...</td>\n",
       "      <td>registered</td>\n",
       "      <td>https://stackoverflow.com/users/3427777/fantab...</td>\n",
       "      <td>4096755</td>\n",
       "      <td>False</td>\n",
       "      <td>2024-10-25 20:10:00</td>\n",
       "      <td>2024-12-09 04:11:00</td>\n",
       "      <td>...</td>\n",
       "      <td>0</td>\n",
       "      <td>0</td>\n",
       "      <td>2014-03-17 06:40:33</td>\n",
       "      <td>80.0</td>\n",
       "      <td>52</td>\n",
       "      <td>57</td>\n",
       "      <td>8</td>\n",
       "      <td>3976</td>\n",
       "      <td>10.9</td>\n",
       "      <td>10-12 Years</td>\n",
       "    </tr>\n",
       "    <tr>\n",
       "      <th>3</th>\n",
       "      <td>1858116</td>\n",
       "      <td>Gabriele Santomaggio</td>\n",
       "      <td>22682</td>\n",
       "      <td>https://i.sstatic.net/fQDZf.jpg?s=256</td>\n",
       "      <td>registered</td>\n",
       "      <td>https://stackoverflow.com/users/1858116/gabrie...</td>\n",
       "      <td>2087535</td>\n",
       "      <td>False</td>\n",
       "      <td>2023-12-25 15:00:00</td>\n",
       "      <td>2025-01-27 14:19:21</td>\n",
       "      <td>...</td>\n",
       "      <td>0</td>\n",
       "      <td>0</td>\n",
       "      <td>2012-11-27 23:02:03</td>\n",
       "      <td>78.0</td>\n",
       "      <td>59</td>\n",
       "      <td>58</td>\n",
       "      <td>4</td>\n",
       "      <td>4450</td>\n",
       "      <td>12.2</td>\n",
       "      <td>12-15 Years</td>\n",
       "    </tr>\n",
       "    <tr>\n",
       "      <th>4</th>\n",
       "      <td>13767</td>\n",
       "      <td>Rafał Rawicki</td>\n",
       "      <td>22680</td>\n",
       "      <td>https://www.gravatar.com/avatar/b043ead577679f...</td>\n",
       "      <td>registered</td>\n",
       "      <td>https://stackoverflow.com/users/13767/rafa%c5%...</td>\n",
       "      <td>7838</td>\n",
       "      <td>False</td>\n",
       "      <td>2024-05-08 11:00:00</td>\n",
       "      <td>2023-07-05 09:38:01</td>\n",
       "      <td>...</td>\n",
       "      <td>0</td>\n",
       "      <td>0</td>\n",
       "      <td>2008-09-16 20:48:13</td>\n",
       "      <td>88.0</td>\n",
       "      <td>79</td>\n",
       "      <td>63</td>\n",
       "      <td>5</td>\n",
       "      <td>5983</td>\n",
       "      <td>16.4</td>\n",
       "      <td>15-18 Years</td>\n",
       "    </tr>\n",
       "  </tbody>\n",
       "</table>\n",
       "<p>5 rows × 23 columns</p>\n",
       "</div>"
      ],
      "text/plain": [
       "   user_id          display_name  reputation  \\\n",
       "0      109                 Kalid       22690   \n",
       "1   347807               CristiC       22688   \n",
       "2  3427777           fantabolous       22686   \n",
       "3  1858116  Gabriele Santomaggio       22682   \n",
       "4    13767         Rafał Rawicki       22680   \n",
       "\n",
       "                                       profile_image   user_type  \\\n",
       "0  https://www.gravatar.com/avatar/5117b4aacf8b64...  registered   \n",
       "1  https://www.gravatar.com/avatar/6023ac67694f90...  registered   \n",
       "2  https://www.gravatar.com/avatar/34dac9c01fc709...  registered   \n",
       "3              https://i.sstatic.net/fQDZf.jpg?s=256  registered   \n",
       "4  https://www.gravatar.com/avatar/b043ead577679f...  registered   \n",
       "\n",
       "                                                link  account_id  is_employee  \\\n",
       "0          https://stackoverflow.com/users/109/kalid          91        False   \n",
       "1     https://stackoverflow.com/users/347807/cristic      141059        False   \n",
       "2  https://stackoverflow.com/users/3427777/fantab...     4096755        False   \n",
       "3  https://stackoverflow.com/users/1858116/gabrie...     2087535        False   \n",
       "4  https://stackoverflow.com/users/13767/rafa%c5%...        7838        False   \n",
       "\n",
       "    last_modified_date     last_access_date  ...  reputation_change_week  \\\n",
       "0  2025-01-17 19:05:00  2015-10-10 21:32:52  ...                      10   \n",
       "1  2024-04-09 05:40:03  2025-01-23 03:52:19  ...                      10   \n",
       "2  2024-10-25 20:10:00  2024-12-09 04:11:00  ...                       0   \n",
       "3  2023-12-25 15:00:00  2025-01-27 14:19:21  ...                       0   \n",
       "4  2024-05-08 11:00:00  2023-07-05 09:38:01  ...                       0   \n",
       "\n",
       "   reputation_change_day        creation_date  accept_rate  badge_bronze  \\\n",
       "0                      0  2008-08-02 00:20:47         88.0            46   \n",
       "1                      0  2010-05-22 13:10:40         96.0            89   \n",
       "2                      0  2014-03-17 06:40:33         80.0            52   \n",
       "3                      0  2012-11-27 23:02:03         78.0            59   \n",
       "4                      0  2008-09-16 20:48:13         88.0            79   \n",
       "\n",
       "  badge_silver  badge_gold  account_age_days  account_age_years    age_group  \n",
       "0           45          14              6029               16.5  15-18 Years  \n",
       "1           61          13              5370               14.7  12-15 Years  \n",
       "2           57           8              3976               10.9  10-12 Years  \n",
       "3           58           4              4450               12.2  12-15 Years  \n",
       "4           63           5              5983               16.4  15-18 Years  \n",
       "\n",
       "[5 rows x 23 columns]"
      ]
     },
     "execution_count": 2,
     "metadata": {},
     "output_type": "execute_result"
    }
   ],
   "source": [
    "user_details_data= pd.read_csv(\"/Users/akhilaannireddy/Projects/Machine_learning_project/Dataset/cleaned_user_data.csv\")\n",
    "user_details_data.head()"
   ]
  },
  {
   "cell_type": "code",
   "execution_count": 3,
   "metadata": {},
   "outputs": [
    {
     "name": "stdout",
     "output_type": "stream",
     "text": [
      "Columns in the dataset\n",
      "Index(['user_id', 'display_name', 'reputation', 'profile_image', 'user_type',\n",
      "       'link', 'account_id', 'is_employee', 'last_modified_date',\n",
      "       'last_access_date', 'reputation_change_year',\n",
      "       'reputation_change_quarter', 'reputation_change_month',\n",
      "       'reputation_change_week', 'reputation_change_day', 'creation_date',\n",
      "       'accept_rate', 'badge_bronze', 'badge_silver', 'badge_gold',\n",
      "       'account_age_days', 'account_age_years', 'age_group'],\n",
      "      dtype='object')\n",
      "user_id                        int64\n",
      "display_name                  object\n",
      "reputation                     int64\n",
      "profile_image                 object\n",
      "user_type                     object\n",
      "link                          object\n",
      "account_id                     int64\n",
      "is_employee                     bool\n",
      "last_modified_date            object\n",
      "last_access_date              object\n",
      "reputation_change_year         int64\n",
      "reputation_change_quarter      int64\n",
      "reputation_change_month        int64\n",
      "reputation_change_week         int64\n",
      "reputation_change_day          int64\n",
      "creation_date                 object\n",
      "accept_rate                  float64\n",
      "badge_bronze                   int64\n",
      "badge_silver                   int64\n",
      "badge_gold                     int64\n",
      "account_age_days               int64\n",
      "account_age_years            float64\n",
      "age_group                     object\n",
      "dtype: object\n"
     ]
    }
   ],
   "source": [
    "print(\"Columns in the dataset\")\n",
    "print(user_details_data.columns)\n",
    "print(user_details_data.dtypes)"
   ]
  },
  {
   "cell_type": "markdown",
   "metadata": {},
   "source": [
    "### Data Preprocessing"
   ]
  },
  {
   "cell_type": "markdown",
   "metadata": {},
   "source": [
    "#### Removing age_group as Label for Clustering and Its Significance\n",
    "\n",
    "The age_group column, which represents account age, is removed as the label before applying clustering to ensure that the model identifies natural groupings without any prior influence. By excluding this categorical variable, clustering can be performed purely based on numerical features such as reputation, badges, and activity metrics.\n",
    "\n",
    "Later, the removed age_group labels can be used to evaluate how well the clustering results align with actual account longevity. This approach helps in identifying patterns in user engagement, grouping similar users based on their platform activity, and understanding how account age influences participation and reputation growth."
   ]
  },
  {
   "cell_type": "code",
   "execution_count": 4,
   "metadata": {},
   "outputs": [],
   "source": [
    "label = user_details_data[\"age_group\"]\n",
    "user_details_data = user_details_data.drop(columns=[\"age_group\"])\n",
    "\n",
    "label.to_csv(\"removed_labels.csv\", index=False)\n"
   ]
  },
  {
   "cell_type": "markdown",
   "metadata": {},
   "source": [
    "#### Selecting only numerical columns"
   ]
  },
  {
   "cell_type": "code",
   "execution_count": 5,
   "metadata": {},
   "outputs": [
    {
     "name": "stdout",
     "output_type": "stream",
     "text": [
      "<class 'pandas.core.frame.DataFrame'>\n",
      "RangeIndex: 104800 entries, 0 to 104799\n",
      "Data columns (total 14 columns):\n",
      " #   Column                     Non-Null Count   Dtype  \n",
      "---  ------                     --------------   -----  \n",
      " 0   user_id                    104800 non-null  int64  \n",
      " 1   reputation                 104800 non-null  int64  \n",
      " 2   account_id                 104800 non-null  int64  \n",
      " 3   reputation_change_year     104800 non-null  int64  \n",
      " 4   reputation_change_quarter  104800 non-null  int64  \n",
      " 5   reputation_change_month    104800 non-null  int64  \n",
      " 6   reputation_change_week     104800 non-null  int64  \n",
      " 7   reputation_change_day      104800 non-null  int64  \n",
      " 8   accept_rate                104800 non-null  float64\n",
      " 9   badge_bronze               104800 non-null  int64  \n",
      " 10  badge_silver               104800 non-null  int64  \n",
      " 11  badge_gold                 104800 non-null  int64  \n",
      " 12  account_age_days           104800 non-null  int64  \n",
      " 13  account_age_years          104800 non-null  float64\n",
      "dtypes: float64(2), int64(12)\n",
      "memory usage: 11.2 MB\n",
      "None\n",
      "   user_id  reputation  account_id  reputation_change_year  \\\n",
      "0      109       22690          91                      12   \n",
      "1   347807       22688      141059                      50   \n",
      "2  3427777       22686     4096755                      20   \n",
      "3  1858116       22682     2087535                       0   \n",
      "4    13767       22680        7838                      20   \n",
      "\n",
      "   reputation_change_quarter  reputation_change_month  reputation_change_week  \\\n",
      "0                         12                       12                      10   \n",
      "1                         50                       50                      10   \n",
      "2                         20                       20                       0   \n",
      "3                          0                        0                       0   \n",
      "4                         20                       20                       0   \n",
      "\n",
      "   reputation_change_day  accept_rate  badge_bronze  badge_silver  badge_gold  \\\n",
      "0                      0         88.0            46            45          14   \n",
      "1                      0         96.0            89            61          13   \n",
      "2                      0         80.0            52            57           8   \n",
      "3                      0         78.0            59            58           4   \n",
      "4                      0         88.0            79            63           5   \n",
      "\n",
      "   account_age_days  account_age_years  \n",
      "0              6029               16.5  \n",
      "1              5370               14.7  \n",
      "2              3976               10.9  \n",
      "3              4450               12.2  \n",
      "4              5983               16.4  \n"
     ]
    }
   ],
   "source": [
    "user_details_data = user_details_data.select_dtypes(include=['number'])\n",
    "print(user_details_data.info())\n",
    "print(user_details_data.head())"
   ]
  },
  {
   "cell_type": "markdown",
   "metadata": {},
   "source": [
    "#### Standardization"
   ]
  },
  {
   "cell_type": "code",
   "execution_count": 6,
   "metadata": {},
   "outputs": [
    {
     "name": "stdout",
     "output_type": "stream",
     "text": [
      "Standardized Data (Mean = 0, Variance = 1):\n"
     ]
    },
    {
     "data": {
      "text/html": [
       "<div>\n",
       "<style scoped>\n",
       "    .dataframe tbody tr th:only-of-type {\n",
       "        vertical-align: middle;\n",
       "    }\n",
       "\n",
       "    .dataframe tbody tr th {\n",
       "        vertical-align: top;\n",
       "    }\n",
       "\n",
       "    .dataframe thead th {\n",
       "        text-align: right;\n",
       "    }\n",
       "</style>\n",
       "<table border=\"1\" class=\"dataframe\">\n",
       "  <thead>\n",
       "    <tr style=\"text-align: right;\">\n",
       "      <th></th>\n",
       "      <th>user_id</th>\n",
       "      <th>reputation</th>\n",
       "      <th>account_id</th>\n",
       "      <th>reputation_change_year</th>\n",
       "      <th>reputation_change_quarter</th>\n",
       "      <th>reputation_change_month</th>\n",
       "      <th>reputation_change_week</th>\n",
       "      <th>reputation_change_day</th>\n",
       "      <th>accept_rate</th>\n",
       "      <th>badge_bronze</th>\n",
       "      <th>badge_silver</th>\n",
       "      <th>badge_gold</th>\n",
       "      <th>account_age_days</th>\n",
       "      <th>account_age_years</th>\n",
       "    </tr>\n",
       "  </thead>\n",
       "  <tbody>\n",
       "    <tr>\n",
       "      <th>0</th>\n",
       "      <td>-0.746956</td>\n",
       "      <td>0.336513</td>\n",
       "      <td>-0.632575</td>\n",
       "      <td>-0.078974</td>\n",
       "      <td>-0.078977</td>\n",
       "      <td>-0.078982</td>\n",
       "      <td>1.038494</td>\n",
       "      <td>-0.052008</td>\n",
       "      <td>0.751035</td>\n",
       "      <td>-0.215744</td>\n",
       "      <td>-0.020678</td>\n",
       "      <td>0.543694</td>\n",
       "      <td>1.399291</td>\n",
       "      <td>1.396006</td>\n",
       "    </tr>\n",
       "    <tr>\n",
       "      <th>1</th>\n",
       "      <td>-0.611990</td>\n",
       "      <td>0.336447</td>\n",
       "      <td>-0.591910</td>\n",
       "      <td>0.604144</td>\n",
       "      <td>0.604141</td>\n",
       "      <td>0.604137</td>\n",
       "      <td>1.038494</td>\n",
       "      <td>-0.052008</td>\n",
       "      <td>1.244211</td>\n",
       "      <td>0.314672</td>\n",
       "      <td>0.222459</td>\n",
       "      <td>0.462574</td>\n",
       "      <td>0.677366</td>\n",
       "      <td>0.676027</td>\n",
       "    </tr>\n",
       "    <tr>\n",
       "      <th>2</th>\n",
       "      <td>0.583562</td>\n",
       "      <td>0.336382</td>\n",
       "      <td>0.549195</td>\n",
       "      <td>0.064840</td>\n",
       "      <td>0.064837</td>\n",
       "      <td>0.064832</td>\n",
       "      <td>-0.219219</td>\n",
       "      <td>-0.052008</td>\n",
       "      <td>0.257860</td>\n",
       "      <td>-0.141732</td>\n",
       "      <td>0.161675</td>\n",
       "      <td>0.056972</td>\n",
       "      <td>-0.849740</td>\n",
       "      <td>-0.843928</td>\n",
       "    </tr>\n",
       "    <tr>\n",
       "      <th>3</th>\n",
       "      <td>-0.025733</td>\n",
       "      <td>0.336251</td>\n",
       "      <td>-0.030407</td>\n",
       "      <td>-0.294695</td>\n",
       "      <td>-0.294698</td>\n",
       "      <td>-0.294704</td>\n",
       "      <td>-0.219219</td>\n",
       "      <td>-0.052008</td>\n",
       "      <td>0.134566</td>\n",
       "      <td>-0.055386</td>\n",
       "      <td>0.176871</td>\n",
       "      <td>-0.267510</td>\n",
       "      <td>-0.330480</td>\n",
       "      <td>-0.323943</td>\n",
       "    </tr>\n",
       "    <tr>\n",
       "      <th>4</th>\n",
       "      <td>-0.741654</td>\n",
       "      <td>0.336185</td>\n",
       "      <td>-0.630340</td>\n",
       "      <td>0.064840</td>\n",
       "      <td>0.064837</td>\n",
       "      <td>0.064832</td>\n",
       "      <td>-0.219219</td>\n",
       "      <td>-0.052008</td>\n",
       "      <td>0.751035</td>\n",
       "      <td>0.191319</td>\n",
       "      <td>0.252851</td>\n",
       "      <td>-0.186390</td>\n",
       "      <td>1.348898</td>\n",
       "      <td>1.356007</td>\n",
       "    </tr>\n",
       "  </tbody>\n",
       "</table>\n",
       "</div>"
      ],
      "text/plain": [
       "    user_id  reputation  account_id  reputation_change_year  \\\n",
       "0 -0.746956    0.336513   -0.632575               -0.078974   \n",
       "1 -0.611990    0.336447   -0.591910                0.604144   \n",
       "2  0.583562    0.336382    0.549195                0.064840   \n",
       "3 -0.025733    0.336251   -0.030407               -0.294695   \n",
       "4 -0.741654    0.336185   -0.630340                0.064840   \n",
       "\n",
       "   reputation_change_quarter  reputation_change_month  reputation_change_week  \\\n",
       "0                  -0.078977                -0.078982                1.038494   \n",
       "1                   0.604141                 0.604137                1.038494   \n",
       "2                   0.064837                 0.064832               -0.219219   \n",
       "3                  -0.294698                -0.294704               -0.219219   \n",
       "4                   0.064837                 0.064832               -0.219219   \n",
       "\n",
       "   reputation_change_day  accept_rate  badge_bronze  badge_silver  badge_gold  \\\n",
       "0              -0.052008     0.751035     -0.215744     -0.020678    0.543694   \n",
       "1              -0.052008     1.244211      0.314672      0.222459    0.462574   \n",
       "2              -0.052008     0.257860     -0.141732      0.161675    0.056972   \n",
       "3              -0.052008     0.134566     -0.055386      0.176871   -0.267510   \n",
       "4              -0.052008     0.751035      0.191319      0.252851   -0.186390   \n",
       "\n",
       "   account_age_days  account_age_years  \n",
       "0          1.399291           1.396006  \n",
       "1          0.677366           0.676027  \n",
       "2         -0.849740          -0.843928  \n",
       "3         -0.330480          -0.323943  \n",
       "4          1.348898           1.356007  "
      ]
     },
     "execution_count": 6,
     "metadata": {},
     "output_type": "execute_result"
    }
   ],
   "source": [
    "scaler = StandardScaler()\n",
    "user_data_cleaned = scaler.fit_transform(user_details_data)\n",
    "user_data_cleaned = pd.DataFrame(user_data_cleaned, columns=user_details_data.columns)\n",
    "print(\"Standardized Data (Mean = 0, Variance = 1):\")\n",
    "user_data_cleaned.head()\n"
   ]
  },
  {
   "cell_type": "code",
   "execution_count": 7,
   "metadata": {},
   "outputs": [
    {
     "name": "stdout",
     "output_type": "stream",
     "text": [
      "CSV file saved successfully!\n"
     ]
    }
   ],
   "source": [
    "# Saving the cleaned DataFrame as a CSV file\n",
    "user_data_cleaned.to_csv(\"user_data_cleaned_for_clustering.csv\", index=False)\n",
    "\n",
    "print(\"CSV file saved successfully!\")"
   ]
  },
  {
   "cell_type": "markdown",
   "metadata": {},
   "source": [
    "#### Applying PCA"
   ]
  },
  {
   "cell_type": "code",
   "execution_count": 8,
   "metadata": {},
   "outputs": [
    {
     "name": "stdout",
     "output_type": "stream",
     "text": [
      "Variance retained after PCA - 6 components: 95.24%\n"
     ]
    }
   ],
   "source": [
    "from sklearn.decomposition import PCA\n",
    "\n",
    "pca = PCA(n_components=6)\n",
    "user_data_pca = pca.fit_transform(user_data_cleaned)\n",
    "user_data_pca = pd.DataFrame(user_data_pca, columns=[f\"PC{i+1}\" for i in range(6)])\n",
    "explained_variance = np.sum(pca.explained_variance_ratio_) * 100\n",
    "print(f\"Variance retained after PCA - 6 components: {explained_variance:.2f}%\")"
   ]
  },
  {
   "cell_type": "markdown",
   "metadata": {},
   "source": [
    "To evaluate the impact of dimensionality reduction on clustering, two versions of the dataset have been prepared. The first version, the original dataset, retains all numerical features after preprocessing, maintaining the full dimensionality of the data. The second version applies Principal Component Analysis (PCA) to reduce the dataset to six principal components while still preserving 95% of the original variance. By transforming the data, PCA helps eliminate redundancy and enhances computational efficiency. By using both datasets for clustering, their effectiveness in capturing meaningful patterns within the data can be compared. The PCA-transformed dataset may result in better-defined clusters due to reduced noise and lower dimensionality, while the original dataset retains all detailed information. The results from both approaches will help determine whether dimensionality reduction improves clustering accuracy or if retaining the full set of features provides better insights."
   ]
  },
  {
   "cell_type": "markdown",
   "metadata": {},
   "source": [
    "### K Means Clustering"
   ]
  },
  {
   "cell_type": "markdown",
   "metadata": {},
   "source": [
    "#### Determine the Optimal k Using Silhouette Score"
   ]
  },
  {
   "cell_type": "code",
   "execution_count": 9,
   "metadata": {},
   "outputs": [],
   "source": [
    "# # Define range for k values (starting from 2 as silhouette score needs at least 2 clusters)\n",
    "# k_values = range(2, 11)\n",
    "# silhouette_scores = []\n",
    "\n",
    "# for k in k_values:\n",
    "#     kmeans = KMeans(n_clusters=k, random_state=42, n_init=10)\n",
    "#     cluster_labels = kmeans.fit_predict(user_data_pca)\n",
    "#     score = silhouette_score(user_data_pca, cluster_labels)\n",
    "#     silhouette_scores.append(score)\n",
    "\n",
    "# # Find best k based on silhouette score\n",
    "# best_k = k_values[np.argmax(silhouette_scores)]\n",
    "# print(f\"Optimal number of clusters based on Silhouette Score: {best_k}\")\n",
    "\n",
    "# # Plot Silhouette Scores for different k values\n",
    "# plt.figure(figsize=(8, 6))\n",
    "# plt.plot(k_values, silhouette_scores, marker='o', linestyle='--', color='g')\n",
    "# plt.xlabel('Number of Clusters (k)')\n",
    "# plt.ylabel('Silhouette Score')\n",
    "# plt.title('Silhouette Analysis for Optimal k')\n",
    "# plt.grid(True)\n",
    "# plt.show()"
   ]
  },
  {
   "cell_type": "markdown",
   "metadata": {},
   "source": [
    "Optimal Clustering at k=6: The highest silhouette score (~0.51) is observed at k=6, indicating that this is the most well-defined and cohesive clustering configuration.\n",
    "\n",
    "Stable Performance for k=3 to k=6: The silhouette scores gradually increase from k=3 to k=6, suggesting that clustering remains stable and meaningful within this range.\n",
    "\n",
    "Sharp Decline After k=6: A significant drop in silhouette score is seen at k=7 (~0.25), indicating that increasing the number of clusters beyond this point leads to poor clustering quality and weaker separation.\n",
    "\n",
    "Poor Cluster Definition for k ≥ 7: The silhouette scores remain consistently low for k=7 to k=10, implying that additional clusters introduce more overlap and reduce the distinctiveness of groupings.\n"
   ]
  },
  {
   "cell_type": "markdown",
   "metadata": {},
   "source": [
    "#### Apply K-Means for Selected k Values"
   ]
  },
  {
   "cell_type": "code",
   "execution_count": 10,
   "metadata": {},
   "outputs": [],
   "source": [
    "# # Selected k values from silhouette analysis\n",
    "# k_values = [3, 4, 5]\n",
    "\n",
    "# # Dictionary to store clustering results\n",
    "# kmeans_models = {}\n",
    "# clustered_dataframes = {}\n",
    "\n",
    "# for k in k_values:\n",
    "#     kmeans = KMeans(n_clusters=k, random_state=42, n_init=10)\n",
    "#     user_data_pca[f'Cluster_k{k}'] = kmeans.fit_predict(user_data_pca)\n",
    "    \n",
    "#     kmeans_models[k] = kmeans\n",
    "#     clustered_dataframes[k] = user_data_pca.copy()\n",
    "\n",
    "#     # Print cluster centers\n",
    "#     print(f\"\\nCluster Centers for k = {k}:\")\n",
    "#     print(kmeans.cluster_centers_)\n",
    "\n",
    "# # Save clustered datasets\n",
    "# for k in k_values:\n",
    "#     clustered_dataframes[k].to_csv(f\"clustered_data_k{k}.csv\", index=False)\n",
    "\n",
    "# print(\"Clustered datasets saved successfully.\")\n"
   ]
  },
  {
   "cell_type": "markdown",
   "metadata": {},
   "source": [
    "The clustering analysis using K-Means was applied to the PCA-transformed dataset to group users based on engagement patterns. Silhouette Analysis identified k=6 as the optimal number of clusters, leading to the evaluation of k=3, 4, and 5 for comparison. The cluster centers for each k-value revealed distinct patterns in user attributes such as reputation, activity metrics, and engagement levels.\n",
    "\n",
    "For k=3, three well-separated clusters emerged—one representing highly active users and two capturing varying engagement levels. Increasing to k=4 and k=5 introduced finer divisions, capturing more nuanced user behaviors. Notably, for k=5, one cluster comprised users with exceptionally high reputation and activity, while others represented moderate contributors, illustrating how increasing k refines cluster granularity.\n",
    "\n",
    "The clustered datasets were saved for further evaluation. The next step involves comparing clustering results with original labels and analyzing cluster characteristics to gain deeper insights into user engagement trends and behavioral segmentation."
   ]
  },
  {
   "cell_type": "markdown",
   "metadata": {},
   "source": [
    "### Visualize K-Means Clustering"
   ]
  },
  {
   "cell_type": "code",
   "execution_count": 11,
   "metadata": {},
   "outputs": [],
   "source": [
    "# fig, axes = plt.subplots(1, 3, figsize=(18, 5))\n",
    "\n",
    "# for i, k in enumerate(k_values):\n",
    "#     ax = axes[i]\n",
    "#     scatter = ax.scatter(user_data_pca[\"PC1\"], user_data_pca[\"PC2\"], \n",
    "#                          c=user_data_pca[f'Cluster_k{k}'], cmap='viridis', alpha=0.6, edgecolors=\"k\")\n",
    "    \n",
    "#     # Plot centroids\n",
    "#     centroids = kmeans_models[k].cluster_centers_\n",
    "#     ax.scatter(centroids[:, 0], centroids[:, 1], c='red', marker='X', s=200, label='Centroids')\n",
    "\n",
    "#     ax.set_title(f\"K-Means Clustering (k={k})\")\n",
    "#     ax.set_xlabel(\"Principal Component 1\")\n",
    "#     ax.set_ylabel(\"Principal Component 2\")\n",
    "#     ax.legend(*scatter.legend_elements(), title=\"Clusters\")\n",
    "\n",
    "# plt.tight_layout()\n",
    "# plt.show()\n"
   ]
  },
  {
   "cell_type": "markdown",
   "metadata": {},
   "source": [
    "Impact of k-Values: As k increases from 3 to 5, clusters become more refined, capturing finer variations in user engagement patterns. k=3 results in broad groupings, while k=4 and k=5 provide more detailed segmentation.\n",
    "\n",
    "Centroid Movement: Red Xs mark the cluster centroids, which shift as k increases, adapting to new cluster boundaries. This demonstrates K-Means’ ability to refine user segmentation dynamically.\n",
    "\n",
    "Outliers and Spread: Some users lie far from main clusters, indicating unique engagement behaviors. With k=5, clustering becomes more granular, detecting highly active or inactive users.\n",
    "\n",
    "Optimal k-Value: While k=3 provides broad engagement categories, k=4 and k=5 offer better-defined groups. Beyond k=5, clusters may become too specific, leading to overfitting.\n",
    "\n",
    "Cluster Compactness: Clusters are tightly packed, indicating well-grouped users with similar engagement characteristics. Some overlap exists, especially at k=4 and k=5, suggesting shared attributes among mid-level users."
   ]
  },
  {
   "cell_type": "markdown",
   "metadata": {},
   "source": [
    "####  Compute Cluster Statistics"
   ]
  },
  {
   "cell_type": "code",
   "execution_count": 12,
   "metadata": {},
   "outputs": [],
   "source": [
    "# for k in k_values:\n",
    "#     print(f\"\\nCluster Statistics for k={k}:\")\n",
    "#     print(user_data_pca.groupby(f'Cluster_k{k}').mean())\n"
   ]
  },
  {
   "cell_type": "markdown",
   "metadata": {},
   "source": [
    "k=3: Users are segmented into low, moderate, and highly active groups. One cluster has significantly high engagement, while the others represent varying activity levels.\n",
    "\n",
    "k=4: Introduces a more refined division, distinguishing moderate users with different engagement patterns from the original groups.\n",
    "\n",
    "k=5: Further granularity captures high but inconsistent engagement, but risks over-segmentation, making clusters harder to interpret."
   ]
  },
  {
   "cell_type": "markdown",
   "metadata": {},
   "source": [
    "#### Compare with Original Labels"
   ]
  },
  {
   "cell_type": "code",
   "execution_count": 13,
   "metadata": {},
   "outputs": [],
   "source": [
    "# # Load original labels\n",
    "# true_labels = pd.read_csv(\"removed_labels.csv\")  # Ensure the correct filename\n",
    "\n",
    "# # Convert categorical labels to numerical labels\n",
    "# label_encoder = LabelEncoder()\n",
    "# true_labels_encoded = label_encoder.fit_transform(true_labels.values.ravel())  # Ensure correct shape\n",
    "\n",
    "# # Compute and print confusion matrices for each k-value\n",
    "# for k in k_values:\n",
    "#     print(f\"\\nConfusion Matrix for k={k}:\")\n",
    "#     print(confusion_matrix(true_labels_encoded, user_data_pca[f'Cluster_k{k}']))\n"
   ]
  },
  {
   "cell_type": "markdown",
   "metadata": {},
   "source": [
    "The confusion matrix results show how well K-Means clustering grouped users based on their account age.\n",
    "\n",
    "For k=3, the model broadly grouped users but lacked clear separation, with most users concentrated in a few clusters. This suggests that three clusters were too general.\n",
    "\n",
    "With k=4, clustering improved slightly, capturing more variations in account age. However, overlaps remained, particularly among middle-aged accounts, indicating that four clusters were still too broad.\n",
    "\n",
    "For k=5, the clusters became more distinct, effectively segmenting users based on engagement and reputation. While some overlap persisted, this setup provided the best balance between separation and interpretability."
   ]
  },
  {
   "cell_type": "markdown",
   "metadata": {},
   "source": [
    "### Hierarchical Clustering"
   ]
  },
  {
   "cell_type": "markdown",
   "metadata": {},
   "source": [
    "Hierarchical clustering is another clustering technique that builds a tree-like structure (dendrogram) to represent relationships between data points. Unlike K-Means, it does not require specifying the number of clusters in advance. The clusters are formed by either merging (agglomerative) or splitting (divisive) data points."
   ]
  },
  {
   "cell_type": "markdown",
   "metadata": {},
   "source": [
    "####  Load and Prepare Data"
   ]
  },
  {
   "cell_type": "code",
   "execution_count": 14,
   "metadata": {},
   "outputs": [
    {
     "name": "stdout",
     "output_type": "stream",
     "text": [
      "Variance retained after PCA - 6 components: 95.24%\n"
     ]
    }
   ],
   "source": [
    "pca = PCA(n_components=6)\n",
    "user_data_pca = pca.fit_transform(user_data_cleaned)\n",
    "user_data_pca = pd.DataFrame(user_data_pca, columns=[f\"PC{i+1}\" for i in range(6)])\n",
    "explained_variance = np.sum(pca.explained_variance_ratio_) * 100\n",
    "print(f\"Variance retained after PCA - 6 components: {explained_variance:.2f}%\")"
   ]
  },
  {
   "cell_type": "markdown",
   "metadata": {},
   "source": [
    "#### Compute and Plot the Dendrogram"
   ]
  },
  {
   "cell_type": "code",
   "execution_count": 15,
   "metadata": {},
   "outputs": [
    {
     "data": {
      "image/png": "[encoded data removed]",
      "text/plain": [
       "<Figure size 1500x1000 with 1 Axes>"
      ]
     },
     "metadata": {},
     "output_type": "display_data"
    }
   ],
   "source": [
    "user_data_sample = user_data_pca.sample(n=5000, random_state=42)  # Use 5000 samples\n",
    "\n",
    "# Compute and plot the dendrogram\n",
    "plt.figure(figsize=(15, 10))\n",
    "dendrogram = sch.dendrogram(sch.linkage(user_data_sample, method='ward'))\n",
    "plt.title(\"Dendrogram for Hierarchical Clustering (Sampled Data)\")\n",
    "plt.xlabel(\"Data Points\")\n",
    "plt.ylabel(\"Euclidean Distance\")\n",
    "plt.show()\n"
   ]
  },
  {
   "cell_type": "markdown",
   "metadata": {},
   "source": [
    "The dendrogram reveals a clear hierarchical structure in the data, with two or three major clusters forming at the highest levels. The longest vertical branches suggest significant separations between these clusters, indicating distinct groups in the dataset. As we move downward, the branches split into smaller sub-clusters, showing that some groups are more similar to each other than others. The lower portion of the dendrogram is densely packed with small branches, suggesting that many data points share similarities and are harder to differentiate. Based on the largest gaps in the dendrogram, selecting around three clusters would likely be a good fit. This visualization helps understand the natural grouping of data points in a way that K-Means does not, as it provides a step-by-step breakdown of how clusters merge."
   ]
  },
  {
   "cell_type": "markdown",
   "metadata": {},
   "source": [
    "#### Choose the Number of Clusters & Extract Cluster Labels"
   ]
  },
  {
   "cell_type": "code",
   "execution_count": 17,
   "metadata": {},
   "outputs": [],
   "source": [
    "from scipy.cluster.hierarchy import fcluster\n",
    "\n",
    "# Define the number of clusters based on the dendrogram\n",
    "num_clusters = 3  # Adjust based on the dendrogram structure\n",
    "\n",
    "# Compute cluster labels\n",
    "cluster_labels = fcluster(sch.linkage(user_data_sample, method='ward'), num_clusters, criterion='maxclust')\n",
    "\n",
    "# Add cluster labels to the DataFrame\n",
    "user_data_sample[\"Hierarchical_Cluster\"] = cluster_labels\n"
   ]
  },
  {
   "cell_type": "markdown",
   "metadata": {},
   "source": [
    "#### Visualize the Clusters"
   ]
  },
  {
   "cell_type": "code",
   "execution_count": 18,
   "metadata": {},
   "outputs": [
    {
     "data": {
      "image/png": "[encoded data removed]",
      "text/plain": [
       "<Figure size 1000x600 with 1 Axes>"
      ]
     },
     "metadata": {},
     "output_type": "display_data"
    }
   ],
   "source": [
    "import seaborn as sns\n",
    "\n",
    "plt.figure(figsize=(10, 6))\n",
    "sns.scatterplot(x=user_data_sample[\"PC1\"], y=user_data_sample[\"PC2\"], hue=user_data_sample[\"Hierarchical_Cluster\"], palette=\"Set1\", s=50)\n",
    "plt.title(\"Hierarchical Clustering Results (PCA-Reduced Data)\")\n",
    "plt.xlabel(\"Principal Component 1\")\n",
    "plt.ylabel(\"Principal Component 2\")\n",
    "plt.legend(title=\"Cluster\")\n",
    "plt.show()\n"
   ]
  },
  {
   "cell_type": "markdown",
   "metadata": {},
   "source": [
    "The hierarchical clustering plot shows three distinct clusters. The red (Cluster 1) and green (Cluster 3) groups are densely packed, while the blue cluster (Cluster 2) consists of widely spread points, which may be outliers. The vertical alignment of Clusters 1 and 3 suggests that most variation is along Principal Component 2, meaning the key differences between these groups might be in specific features compressed by PCA. Cluster 2 is far from the others, indicating it might contain very different data points or potential outliers. To improve clustering, you could refine the number of clusters, analyze outliers, and compare results with K-Means clustering."
   ]
  },
  {
   "cell_type": "markdown",
   "metadata": {},
   "source": []
  },
  {
   "cell_type": "code",
   "execution_count": 19,
   "metadata": {},
   "outputs": [
    {
     "ename": "KeyError",
     "evalue": "'Hierarchical_Cluster_6'",
     "output_type": "error",
     "traceback": [
      "\u001b[0;31m---------------------------------------------------------------------------\u001b[0m",
      "\u001b[0;31mKeyError\u001b[0m                                  Traceback (most recent call last)",
      "File \u001b[0;32m/opt/anaconda3/envs/mlpro/lib/python3.9/site-packages/pandas/core/indexes/base.py:3805\u001b[0m, in \u001b[0;36mIndex.get_loc\u001b[0;34m(self, key)\u001b[0m\n\u001b[1;32m   3804\u001b[0m \u001b[39mtry\u001b[39;00m:\n\u001b[0;32m-> 3805\u001b[0m     \u001b[39mreturn\u001b[39;00m \u001b[39mself\u001b[39;49m\u001b[39m.\u001b[39;49m_engine\u001b[39m.\u001b[39;49mget_loc(casted_key)\n\u001b[1;32m   3806\u001b[0m \u001b[39mexcept\u001b[39;00m \u001b[39mKeyError\u001b[39;00m \u001b[39mas\u001b[39;00m err:\n",
      "File \u001b[0;32mindex.pyx:167\u001b[0m, in \u001b[0;36mpandas._libs.index.IndexEngine.get_loc\u001b[0;34m()\u001b[0m\n",
      "File \u001b[0;32mindex.pyx:196\u001b[0m, in \u001b[0;36mpandas._libs.index.IndexEngine.get_loc\u001b[0;34m()\u001b[0m\n",
      "File \u001b[0;32mpandas/_libs/hashtable_class_helper.pxi:7081\u001b[0m, in \u001b[0;36mpandas._libs.hashtable.PyObjectHashTable.get_item\u001b[0;34m()\u001b[0m\n",
      "File \u001b[0;32mpandas/_libs/hashtable_class_helper.pxi:7089\u001b[0m, in \u001b[0;36mpandas._libs.hashtable.PyObjectHashTable.get_item\u001b[0;34m()\u001b[0m\n",
      "\u001b[0;31mKeyError\u001b[0m: 'Hierarchical_Cluster_6'",
      "\nThe above exception was the direct cause of the following exception:\n",
      "\u001b[0;31mKeyError\u001b[0m                                  Traceback (most recent call last)",
      "\u001b[1;32m/Users/akhilaannireddy/Projects/Machine_learning_project/Models/clustering_model_impl.ipynb Cell 47\u001b[0m line \u001b[0;36m4\n\u001b[1;32m      <a href='vscode-notebook-cell:/Users/akhilaannireddy/Projects/Machine_learning_project/Models/clustering_model_impl.ipynb#Y121sZmlsZQ%3D%3D?line=0'>1</a>\u001b[0m \u001b[39mimport\u001b[39;00m\u001b[39m \u001b[39m\u001b[39mpandas\u001b[39;00m\u001b[39m \u001b[39m\u001b[39mas\u001b[39;00m\u001b[39m \u001b[39m\u001b[39mpd\u001b[39;00m\n\u001b[1;32m      <a href='vscode-notebook-cell:/Users/akhilaannireddy/Projects/Machine_learning_project/Models/clustering_model_impl.ipynb#Y121sZmlsZQ%3D%3D?line=2'>3</a>\u001b[0m \u001b[39m# Cross-tabulation of cluster assignments\u001b[39;00m\n\u001b[0;32m----> <a href='vscode-notebook-cell:/Users/akhilaannireddy/Projects/Machine_learning_project/Models/clustering_model_impl.ipynb#Y121sZmlsZQ%3D%3D?line=3'>4</a>\u001b[0m comparison_table \u001b[39m=\u001b[39m pd\u001b[39m.\u001b[39mcrosstab(user_data_sample[\u001b[39m'\u001b[39;49m\u001b[39mHierarchical_Cluster_6\u001b[39;49m\u001b[39m'\u001b[39;49m], user_data_sample[\u001b[39m'\u001b[39m\u001b[39mKMeans_Cluster\u001b[39m\u001b[39m'\u001b[39m])\n\u001b[1;32m      <a href='vscode-notebook-cell:/Users/akhilaannireddy/Projects/Machine_learning_project/Models/clustering_model_impl.ipynb#Y121sZmlsZQ%3D%3D?line=4'>5</a>\u001b[0m \u001b[39mprint\u001b[39m(comparison_table)\n",
      "File \u001b[0;32m/opt/anaconda3/envs/mlpro/lib/python3.9/site-packages/pandas/core/frame.py:4102\u001b[0m, in \u001b[0;36mDataFrame.__getitem__\u001b[0;34m(self, key)\u001b[0m\n\u001b[1;32m   4100\u001b[0m \u001b[39mif\u001b[39;00m \u001b[39mself\u001b[39m\u001b[39m.\u001b[39mcolumns\u001b[39m.\u001b[39mnlevels \u001b[39m>\u001b[39m \u001b[39m1\u001b[39m:\n\u001b[1;32m   4101\u001b[0m     \u001b[39mreturn\u001b[39;00m \u001b[39mself\u001b[39m\u001b[39m.\u001b[39m_getitem_multilevel(key)\n\u001b[0;32m-> 4102\u001b[0m indexer \u001b[39m=\u001b[39m \u001b[39mself\u001b[39;49m\u001b[39m.\u001b[39;49mcolumns\u001b[39m.\u001b[39;49mget_loc(key)\n\u001b[1;32m   4103\u001b[0m \u001b[39mif\u001b[39;00m is_integer(indexer):\n\u001b[1;32m   4104\u001b[0m     indexer \u001b[39m=\u001b[39m [indexer]\n",
      "File \u001b[0;32m/opt/anaconda3/envs/mlpro/lib/python3.9/site-packages/pandas/core/indexes/base.py:3812\u001b[0m, in \u001b[0;36mIndex.get_loc\u001b[0;34m(self, key)\u001b[0m\n\u001b[1;32m   3807\u001b[0m     \u001b[39mif\u001b[39;00m \u001b[39misinstance\u001b[39m(casted_key, \u001b[39mslice\u001b[39m) \u001b[39mor\u001b[39;00m (\n\u001b[1;32m   3808\u001b[0m         \u001b[39misinstance\u001b[39m(casted_key, abc\u001b[39m.\u001b[39mIterable)\n\u001b[1;32m   3809\u001b[0m         \u001b[39mand\u001b[39;00m \u001b[39many\u001b[39m(\u001b[39misinstance\u001b[39m(x, \u001b[39mslice\u001b[39m) \u001b[39mfor\u001b[39;00m x \u001b[39min\u001b[39;00m casted_key)\n\u001b[1;32m   3810\u001b[0m     ):\n\u001b[1;32m   3811\u001b[0m         \u001b[39mraise\u001b[39;00m InvalidIndexError(key)\n\u001b[0;32m-> 3812\u001b[0m     \u001b[39mraise\u001b[39;00m \u001b[39mKeyError\u001b[39;00m(key) \u001b[39mfrom\u001b[39;00m\u001b[39m \u001b[39m\u001b[39merr\u001b[39;00m\n\u001b[1;32m   3813\u001b[0m \u001b[39mexcept\u001b[39;00m \u001b[39mTypeError\u001b[39;00m:\n\u001b[1;32m   3814\u001b[0m     \u001b[39m# If we have a listlike key, _check_indexing_error will raise\u001b[39;00m\n\u001b[1;32m   3815\u001b[0m     \u001b[39m#  InvalidIndexError. Otherwise we fall through and re-raise\u001b[39;00m\n\u001b[1;32m   3816\u001b[0m     \u001b[39m#  the TypeError.\u001b[39;00m\n\u001b[1;32m   3817\u001b[0m     \u001b[39mself\u001b[39m\u001b[39m.\u001b[39m_check_indexing_error(key)\n",
      "\u001b[0;31mKeyError\u001b[0m: 'Hierarchical_Cluster_6'"
     ]
    }
   ],
   "source": [
    "# import pandas as pd\n",
    "\n",
    "# # Cross-tabulation of cluster assignments\n",
    "# comparison_table = pd.crosstab(user_data_sample['Hierarchical_Cluster_6'], user_data_sample['KMeans_Cluster'])\n",
    "# print(comparison_table)\n"
   ]
  },
  {
   "cell_type": "markdown",
   "metadata": {},
   "source": [
    "### DBSCAN"
   ]
  },
  {
   "cell_type": "code",
   "execution_count": 24,
   "metadata": {},
   "outputs": [
    {
     "name": "stdout",
     "output_type": "stream",
     "text": [
      "DBSCAN Cluster Counts:\n",
      "DBSCAN_Cluster\n",
      " 0    3262\n",
      "-1    1276\n",
      " 1     308\n",
      " 5      74\n",
      " 3      35\n",
      " 4      27\n",
      " 2      18\n",
      "Name: count, dtype: int64\n"
     ]
    },
    {
     "ename": "NameError",
     "evalue": "name 'user_data_pca_sample' is not defined",
     "output_type": "error",
     "traceback": [
      "\u001b[0;31m---------------------------------------------------------------------------\u001b[0m",
      "\u001b[0;31mNameError\u001b[0m                                 Traceback (most recent call last)",
      "\u001b[1;32m/Users/akhilaannireddy/Projects/Machine_learning_project/Models/clustering_model_impl.ipynb Cell 49\u001b[0m line \u001b[0;36m1\n\u001b[1;32m     <a href='vscode-notebook-cell:/Users/akhilaannireddy/Projects/Machine_learning_project/Models/clustering_model_impl.ipynb#Y123sZmlsZQ%3D%3D?line=11'>12</a>\u001b[0m \u001b[39m# Plot DBSCAN Clusters\u001b[39;00m\n\u001b[1;32m     <a href='vscode-notebook-cell:/Users/akhilaannireddy/Projects/Machine_learning_project/Models/clustering_model_impl.ipynb#Y123sZmlsZQ%3D%3D?line=12'>13</a>\u001b[0m plt\u001b[39m.\u001b[39mfigure(figsize\u001b[39m=\u001b[39m(\u001b[39m10\u001b[39m, \u001b[39m6\u001b[39m))\n\u001b[0;32m---> <a href='vscode-notebook-cell:/Users/akhilaannireddy/Projects/Machine_learning_project/Models/clustering_model_impl.ipynb#Y123sZmlsZQ%3D%3D?line=13'>14</a>\u001b[0m sns\u001b[39m.\u001b[39mscatterplot(x\u001b[39m=\u001b[39muser_data_pca_sample[:, \u001b[39m0\u001b[39m], y\u001b[39m=\u001b[39muser_data_pca_sample[:, \u001b[39m1\u001b[39m], hue\u001b[39m=\u001b[39muser_data_sample[\u001b[39m\"\u001b[39m\u001b[39mDBSCAN_Cluster\u001b[39m\u001b[39m\"\u001b[39m], palette\u001b[39m=\u001b[39m\u001b[39m\"\u001b[39m\u001b[39mSet1\u001b[39m\u001b[39m\"\u001b[39m, s\u001b[39m=\u001b[39m\u001b[39m50\u001b[39m)\n\u001b[1;32m     <a href='vscode-notebook-cell:/Users/akhilaannireddy/Projects/Machine_learning_project/Models/clustering_model_impl.ipynb#Y123sZmlsZQ%3D%3D?line=14'>15</a>\u001b[0m plt\u001b[39m.\u001b[39mtitle(\u001b[39m\"\u001b[39m\u001b[39mDBSCAN Clustering Results (Sampled Data)\u001b[39m\u001b[39m\"\u001b[39m)\n\u001b[1;32m     <a href='vscode-notebook-cell:/Users/akhilaannireddy/Projects/Machine_learning_project/Models/clustering_model_impl.ipynb#Y123sZmlsZQ%3D%3D?line=15'>16</a>\u001b[0m plt\u001b[39m.\u001b[39mxlabel(\u001b[39m\"\u001b[39m\u001b[39mPrincipal Component 1\u001b[39m\u001b[39m\"\u001b[39m)\n",
      "\u001b[0;31mNameError\u001b[0m: name 'user_data_pca_sample' is not defined"
     ]
    },
    {
     "data": {
      "text/plain": [
       "<Figure size 1000x600 with 0 Axes>"
      ]
     },
     "metadata": {},
     "output_type": "display_data"
    }
   ],
   "source": [
    "# Apply DBSCAN to the sampled dataset\n",
    "dbscan = DBSCAN(eps=0.5, min_samples=10)  # Adjust eps and min_samples based on dataset\n",
    "dbscan_labels_sample = dbscan.fit_predict(user_data_sample)\n",
    "\n",
    "# Add DBSCAN results to the sampled dataframe\n",
    "user_data_sample[\"DBSCAN_Cluster\"] = dbscan_labels_sample  # Now length matches\n",
    "\n",
    "# Count number of clusters (-1 represents noise/outliers)\n",
    "print(\"DBSCAN Cluster Counts:\")\n",
    "print(user_data_sample[\"DBSCAN_Cluster\"].value_counts())\n",
    "\n",
    "# Plot DBSCAN Clusters\n",
    "plt.figure(figsize=(10, 6))\n",
    "sns.scatterplot(x=user_data_pca_sample[:, 0], y=user_data_pca_sample[:, 1], hue=user_data_sample[\"DBSCAN_Cluster\"], palette=\"Set1\", s=50)\n",
    "plt.title(\"DBSCAN Clustering Results (Sampled Data)\")\n",
    "plt.xlabel(\"Principal Component 1\")\n",
    "plt.ylabel(\"Principal Component 2\")\n",
    "plt.legend(title=\"Cluster\")\n",
    "plt.show()"
   ]
  }
 ],
 "metadata": {
  "kernelspec": {
   "display_name": "mlpro",
   "language": "python",
   "name": "python3"
  },
  "language_info": {
   "codemirror_mode": {
    "name": "ipython",
    "version": 3
   },
   "file_extension": ".py",
   "mimetype": "text/x-python",
   "name": "python",
   "nbconvert_exporter": "python",
   "pygments_lexer": "ipython3",
   "version": "3.9.21"
  }
 },
 "nbformat": 4,
 "nbformat_minor": 2
}
